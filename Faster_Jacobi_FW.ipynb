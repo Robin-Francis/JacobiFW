{
  "nbformat": 4,
  "nbformat_minor": 0,
  "metadata": {
    "colab": {
      "provenance": []
    },
    "kernelspec": {
      "name": "python3",
      "display_name": "Python 3"
    },
    "language_info": {
      "name": "python"
    }
  },
  "cells": [
    {
      "cell_type": "markdown",
      "metadata": {
        "id": "LBFbcpFZyFqk"
      },
      "source": [
        "#Speeding up the Frank-Wolfe method using the Orthogonal Jacobi polynomials\n",
        "\n",
        "Robin Francis and Sundeep Prabhakar Chepuri\n",
        "\n",
        "Indian Institute of Science, Bangalore, India\n",
        "\n",
        "Email: robinfracis@iisc.ac.in\n",
        "\n",
        "    \n",
        "\n"
      ]
    },
    {
      "cell_type": "code",
      "metadata": {
        "id": "MaNR9IPdyDni"
      },
      "source": [
        "## Required packages\n",
        "\n",
        "import numpy as np\n",
        "import matplotlib.pyplot as plt\n",
        "import pandas as pd\n",
        "from scipy.sparse.linalg import svds\n",
        "import scipy as sp\n",
        "from sklearn.linear_model import LogisticRegression"
      ],
      "execution_count": null,
      "outputs": []
    },
    {
      "cell_type": "code",
      "metadata": {
        "id": "dk7Z4trEyeh0"
      },
      "source": [
        "def FW(X,y,t,M,prob_type,iterations,f_value,R):\n",
        "  # X: data matrix\n",
        "  # y: observation vector\n",
        "  # t: diameter of constraint set\n",
        "  # M: Huber constant\n",
        "  # prob_type: 0, 1 and 2 for Logistic regression, Robust regression and Robust MC\n",
        "  # iterations: \n",
        "  # f_value: optimum value or Huber value for MC\n",
        "  # R: rank constraint\n",
        "\n",
        "  m,n = X.shape\n",
        "  A = X*1\n",
        "  rho = 500000\n",
        "  f_fw = np.zeros(iterations)\n",
        "  if (prob_type == 0):\n",
        "    x_int = np.zeros(n)\n",
        "    f_fw[0] = fun_val_logistic(x_int) - f_value\n",
        "  elif  (prob_type == 1):\n",
        "    x_int = np.zeros(n)\n",
        "    f_fw[0] = fun_Huber_pima(y - np.dot(A,x_int),M) - f_value\n",
        "  elif  (prob_type == 2):\n",
        "    x_int = X\n",
        "    f_fw[0] = fun_Huber_mc(x_int,y,M)/f_value  \n",
        "  x = x_int\n",
        "  if (prob_type == 0):\n",
        "    grad = get_grad_logistic(A,x,y)\n",
        "    s = -t*grad/np.linalg.norm(grad)\n",
        "    x = x/3 + 2*s/3\n",
        "    f_fw[1] = fun_val_logistic(x) - f_value\n",
        "  elif  (prob_type == 1):\n",
        "    grad = grad_Huber_pima(y - np.dot(A,x),M, A)\n",
        "    s = -t*grad/np.linalg.norm(grad)\n",
        "    x = x/3 + 2*s/3\n",
        "    f_fw[1] = fun_Huber_pima(y - np.dot(A,x),M) - f_value\n",
        "  elif  (prob_type == 2):\n",
        "    grad= grad_Huber_mc(x,X,M)\n",
        "    p, S, q = svds(grad,k=1)\n",
        "    V = -R*rho*np.outer(p,q)\n",
        "    x = x + 2/3*(V - x)\n",
        "    f_fw[1] = fun_Huber_mc(x,y,M)/f_value\n",
        "\n",
        "\n",
        "  for i in range(2,iterations):\n",
        "    gamma = 2/(2+i)\n",
        "    if (prob_type == 0):\n",
        "      grad = get_grad_logistic(A,x,y)\n",
        "      s = -t*grad/np.linalg.norm(grad)\n",
        "      x = (1-gamma)*x + gamma*s\n",
        "      f_fw[i] = fun_val_logistic(x) - f_value\n",
        "    elif  (prob_type == 1):\n",
        "      grad = grad_Huber_pima(y - np.dot(A,x),M, A)\n",
        "      s = -t*grad/np.linalg.norm(grad)\n",
        "      x = (1-gamma)*x + gamma*s\n",
        "      f_fw[i] = fun_Huber_pima(y - np.dot(A,x),M) - f_value\n",
        "    elif  (prob_type == 2):\n",
        "      grad= grad_Huber_mc(x,X,M)\n",
        "      p, S, q = svds(grad,k=1)\n",
        "      V = -R*rho*np.outer(p,q)\n",
        "      x = x + gamma*(V - x)\n",
        "      f_fw[i] = fun_Huber_mc(x,y,M)/f_value\n",
        "  t1 = np.linspace(10,iterations - 40,96) \n",
        "  return t1, f_fw[10:iterations-30:10]"
      ],
      "execution_count": null,
      "outputs": []
    },
    {
      "cell_type": "code",
      "metadata": {
        "id": "yNFTEwuOz2sU"
      },
      "source": [
        "def AFW(X,y,t,M,prob_type,iterations,f_value,R):\n",
        "  # X: data matrix\n",
        "  # y: observation vector\n",
        "  # t: diameter of constraint set\n",
        "  # M: Huber constant\n",
        "  # prob_type: 0, 1 and 2 for Logistic regression, Robust regression and Robust MC\n",
        "  # iterations: \n",
        "  # f_value: optimum value or Huber value for MC\n",
        "  # R: rank constraint\n",
        "  \n",
        "  m,n = X.shape\n",
        "  A = X*1\n",
        "  rho = 500000\n",
        "  f_fw = np.zeros(iterations)\n",
        "  if (prob_type == 0):\n",
        "    x_int = np.zeros(n)\n",
        "    Y = np.zeros(n)\n",
        "    grad = np.zeros(n)\n",
        "    f_fw[0] = fun_val_logistic(x_int) - f_value\n",
        "  elif  (prob_type == 1):\n",
        "    x_int = np.zeros(n)\n",
        "    Y = np.zeros(n)\n",
        "    grad = np.zeros(n)\n",
        "    f_fw[0] = fun_Huber_pima(y - np.dot(A,Y),M) - f_value\n",
        "  elif  (prob_type == 2):\n",
        "    x_int = X\n",
        "    Y = np.zeros((m,n))\n",
        "    grad = np.zeros((m,n))\n",
        "    f_fw[0] = fun_Huber_mc(x_int,y,M)/f_value  \n",
        "  x = x_int\n",
        "\n",
        "  for i in range(1,iterations):\n",
        "    gamma = 2/(i + 3)\n",
        "    if (prob_type == 0):\n",
        "      grad= (1-gamma)*grad + gamma*get_grad_logistic(A,Y,y)\n",
        "      s = -t*grad/np.linalg.norm(grad)\n",
        "      x = (1-gamma)*x + gamma*s\n",
        "      Y = (1- 2/(i+4))*x + 2/(i+4)*s\n",
        "      f_fw[i] = fun_val_logistic(x) - f_value\n",
        "    elif  (prob_type == 1):\n",
        "      grad = (1-gamma)*grad + gamma* grad_Huber_pima(y - np.dot(A,Y),M, A)\n",
        "      s = -t*grad/np.linalg.norm(grad)\n",
        "      x = (1-gamma)*x + gamma*s\n",
        "      Y = (1- 2/(i+4))*x + 2/(i+4)*s \n",
        "      f_fw[i] = fun_Huber_pima(y - np.dot(A,x),M) - f_value\n",
        "    elif  (prob_type == 2):\n",
        "      grad= (1-gamma)*grad + gamma* grad_Huber_mc(Y,X,M)\n",
        "      p, S, q = svds(grad,k=1)\n",
        "      V = -R*rho*np.outer(p,q)\n",
        "      x = x + gamma*(V - x)\n",
        "      Y = (1- 2/(i+4))*x + 2/(i+4)*V \n",
        "      f_fw[i] = fun_Huber_mc(x,y,M)/f_value\n",
        "  t1 = np.linspace(10,iterations - 40,96) \n",
        "  return t1, f_fw[10:iterations-30:10]"
      ],
      "execution_count": null,
      "outputs": []
    },
    {
      "cell_type": "code",
      "metadata": {
        "id": "UF1STTMsBswf"
      },
      "source": [
        "## defining Jacobi coefficients\n",
        "def constants(m, alpha, beta):\n",
        "    a1 = (2 * m + alpha + beta + 1) * (2 * m + alpha + beta + 2) / (2*((m + alpha + beta + 1) * (m + 1+alpha)))\n",
        "    b1 = (2 * m + alpha + beta + 1) * ((alpha ** 2) - (beta ** 2)) / (2*(\n",
        "                    (m + alpha + beta + 1) * (m + 1+alpha) * (2 * m + alpha + beta)))\n",
        "    c1 = (2 * m + alpha + beta + 2) * m * (beta + m) / (\n",
        "                    (m + alpha + beta + 1) * (m + 1+alpha) * (2 * m + alpha + beta))\n",
        "    return a1, b1, c1"
      ],
      "execution_count": null,
      "outputs": []
    },
    {
      "cell_type": "code",
      "metadata": {
        "id": "UtCfF_rFBRL3"
      },
      "source": [
        "def JFW(X,y,t,alpha,beta,g,M,prob_type,iterations,f_value,R):\n",
        "  # X: data matrix\n",
        "  # y: observation vector\n",
        "  # t: diameter of constraint set\n",
        "  # alpha: \n",
        "  # beta: \n",
        "  # g: value of gamma\n",
        "  # M: Huber constant\n",
        "  # prob_type: 0, 1 and 2 for Logistic regression, Robust regression and Robust MC\n",
        "  # iterations: \n",
        "  # f_value: optimum value or Huber value for MC\n",
        "  # R: rank constraint\n",
        "\n",
        "  m,n = X.shape\n",
        "  A = X*1\n",
        "  rho = 500000\n",
        "  f_fw = np.zeros(iterations)\n",
        "  if (prob_type == 0):\n",
        "    x_int = np.zeros(n)\n",
        "    f_fw[0] = fun_val_logistic(x_int) - f_value\n",
        "  elif  (prob_type == 1):\n",
        "    x_int = np.zeros(n)\n",
        "    f_fw[0] = fun_Huber_pima(y - np.dot(A,x_int),M) - f_value\n",
        "  elif  (prob_type == 2):\n",
        "    x_int = X\n",
        "    f_fw[0] = fun_Huber_mc(x_int,y,M)/f_value  \n",
        "  x = x_int\n",
        "  if (prob_type == 0):\n",
        "    grad = get_grad_logistic(A,x,y)\n",
        "    s = -t*grad/np.linalg.norm(grad)\n",
        "    x1 = (1-g)*x + g*s\n",
        "    x1 =  x1*((alpha + beta + 2)/(2*(1+alpha))*(1/3) + (alpha - beta)/(2*(1+alpha))) +(alpha + beta + 2)/(2*(1+alpha))*g*x\n",
        "    f_fw[1] = fun_val_logistic(x1) - f_value\n",
        "  elif  (prob_type == 1):\n",
        "    grad = grad_Huber_pima(y - np.dot(A,x),M, A)\n",
        "    s = -t*grad/np.linalg.norm(grad)\n",
        "    x1 = (1-g)*x + g*s\n",
        "    x1 =  x1*((alpha + beta + 2)/(2*(1+alpha))*(1/3) + (alpha - beta)/(2*(1+alpha))) +(alpha + beta + 2)/(2*(1+alpha))*g*x\n",
        "    f_fw[1] = fun_Huber_pima(y - np.dot(A,x),M) - f_value\n",
        "  elif  (prob_type == 2):\n",
        "    grad= grad_Huber_mc(x,X,M)\n",
        "    p, S, q = svds(grad,k=1)\n",
        "    V = -R*rho*np.outer(p,q)\n",
        "    x1 = x + 2/3*(V - x)\n",
        "    x1 =  x1*((alpha + beta + 2)/(2*(1+alpha))*(1/3) + (alpha - beta)/(2*(1+alpha))) +(alpha + beta + 2)/(2*(1+alpha))*g*x\n",
        "    f_fw[1] = fun_Huber_mc(x1,y,M)/f_value\n",
        "\n",
        "\n",
        "  for i in range(2,iterations):\n",
        "    gamma = 2/(2+i)\n",
        "    if (prob_type == 0):\n",
        "      grad = get_grad_logistic(A,x1,y)\n",
        "      x = x1\n",
        "      s = -t*grad/np.linalg.norm(grad)\n",
        "      a, b, c = constants(i,alpha,beta)\n",
        "      x1 = (1-gamma)*x1 + gamma*s\n",
        "      x1 = (a*(1-g) + b)*x1  - c*x + a*g*x\n",
        "      f_fw[i] = fun_val_logistic(x1) - f_value\n",
        "    elif  (prob_type == 1):\n",
        "      grad = grad_Huber_pima(y - np.dot(A,x1),M, A)\n",
        "      x =x1\n",
        "      s = -t*grad/np.linalg.norm(grad)\n",
        "      a, b, c = constants(i,alpha,beta)\n",
        "      x1 = (1-gamma)*x1 + gamma*s\n",
        "      x1 = (a*(1-g) + b)*x1  - c*x + a*g*x\n",
        "      f_fw[i] = fun_Huber_pima(y - np.dot(A,x1),M) - f_value\n",
        "    elif  (prob_type == 2):\n",
        "      grad= grad_Huber_mc(x1,X,M)\n",
        "      x =x1\n",
        "      p, S, q = svds(grad,k=1)\n",
        "      V = -R*rho*np.outer(p,q)\n",
        "      a, b, c = constants(i,alpha,beta)\n",
        "      x1 = x1 + gamma*(V - x1)\n",
        "      x1 = (a*(1-g) + b)*x1  - c*x + a*g*x\n",
        "      f_fw[i] = fun_Huber_mc(x1,y,M)/f_value\n",
        "  t1 = np.linspace(10,iterations - 40,96) \n",
        "  return t1, f_fw[10:iterations-30:10]"
      ],
      "execution_count": null,
      "outputs": []
    },
    {
      "cell_type": "markdown",
      "metadata": {
        "id": "gfnMsnxlyP1M"
      },
      "source": [
        "**Logistic regression**\n",
        "\n",
        "Consider the logistic regression problem with $\\ell_2$-norm constraint for binary classification:\n",
        "\\begin{align*} \n",
        "   &\\underset{\\mathbf{x}}{\\text{minimize}}\\quad \\frac{1}{m}\\sum_{i=1}^{m}\\log(1 + \\exp{(-b_i\\left<\\mathbf{a}_i,\\mathbf{x}\\right>)}) \\\\ \n",
        "   &\\text{s. to } \\quad ||\\mathbf{x}||_2 \\leq t,\n",
        "\\end{align*}\n",
        "where $\\mathbf{a}_i \\in \\mathbb{R}^d$ is the feature vector and $b_i$ is the binary class label.\n",
        "\n",
        "we apply FW, AFW and JFW on  *breast cancer* dataset with $m=698$ and $d=9$. We use The performance of JFW is obtained for $\\alpha = \\beta = 1.2$ and $\\gamma = 2/3$."
      ]
    },
    {
      "cell_type": "code",
      "metadata": {
        "colab": {
          "base_uri": "https://localhost:8080/"
        },
        "id": "nM2y_bk58Aa3",
        "outputId": "ae13f963-6367-411d-fcb6-91a637605ce0"
      },
      "source": [
        "## Reading the data\n",
        "data = pd.read_csv('https://archive.ics.uci.edu/ml/machine-learning-databases/breast-cancer-wisconsin/breast-cancer-wisconsin.data')\n",
        "\n",
        "d = np.array(data)\n",
        "X = d[:,1:10]\n",
        "y = d[:,10] - 3\n",
        "y = y.astype('int')\n",
        "m , n = X.shape\n",
        "x_int = np.zeros(n)\n",
        "for i in range(m):\n",
        "  if (X[i,5] == '?' ):\n",
        "    X[i,5] = 0\n",
        "  if (X[i,5] == '1'):\n",
        "    X[i,5] = 1\n",
        "  if (X[i,5] == '2'):\n",
        "    X[i,5] = 2\n",
        "  if (X[i,5] == '3'):\n",
        "    X[i,5] = 3\n",
        "  if (X[i,5] == '4'):\n",
        "    X[i,5] = 4\n",
        "  if (X[i,5] == '5'):\n",
        "    X[i,5] = 5\n",
        "  if (X[i,5] == '6'):\n",
        "    X[i,5] = 6\n",
        "  if (X[i,5] == '7'):\n",
        "    X[i,5] = 7\n",
        "  if (X[i,5] == '8'):\n",
        "    X[i,5] = 8\n",
        "  if (X[i,5] == '9'):\n",
        "    X[i,5] = 9\n",
        "  if (X[i,5] == '10'):\n",
        "    X[i,5] = 10\n",
        "print(m,n)"
      ],
      "execution_count": null,
      "outputs": [
        {
          "output_type": "stream",
          "name": "stdout",
          "text": [
            "698 9\n"
          ]
        }
      ]
    },
    {
      "cell_type": "code",
      "metadata": {
        "id": "gKKNqMDt8R4X"
      },
      "source": [
        "## Definition of objective and its derivative  \n",
        "\n",
        "def fun_val_logistic(w):\n",
        "  f = 0\n",
        "  for i in range(m):\n",
        "    f = f + np.log(1 + np.exp(-y[i]*(np.vdot(X[i,:],w))))\n",
        "  return f/m \n",
        "\n",
        "# Define the gradient\n",
        "\n",
        "def get_grad_logistic(A,w,y):\n",
        "  g = 0\n",
        "  g1 = 0\n",
        "  for i in range(m):\n",
        "    g1 = (1 + np.exp(-y[i]*(np.vdot(X[i,:],w))))\n",
        "    g2 = np.exp(-y[i]*(np.vdot(X[i,:],w)))\n",
        "    g = g + -g2*y[i]*X[i,:]/g1\n",
        "  return g/m"
      ],
      "execution_count": null,
      "outputs": []
    },
    {
      "cell_type": "code",
      "metadata": {
        "colab": {
          "base_uri": "https://localhost:8080/"
        },
        "id": "2yvltu7e8eMH",
        "outputId": "05800b88-355e-46ed-f964-02c44346ea76"
      },
      "source": [
        " # Form model fitting problem with logistic loss and L1 regularization.\n",
        "\n",
        "import cvxpy as cp\n",
        "\n",
        "#y1 = y.reshape((-1,1))\n",
        "theta = cp.Variable((n))\n",
        "lamda = cp.Parameter(nonneg=True)\n",
        "loss = cp.sum(cp.logistic(cp.multiply(-y,X@theta)))\n",
        "reg = cp.norm(theta, 1)\n",
        "prob = cp.Problem(cp.Minimize(loss/m ))\n",
        "\n",
        "lamda.value = .01\n",
        "prob.solve()\n",
        "f_opt = prob.value\n",
        "print('optimal value', f_opt)"
      ],
      "execution_count": null,
      "outputs": [
        {
          "output_type": "stream",
          "name": "stdout",
          "text": [
            "optimal value 0.38284896483818043\n"
          ]
        }
      ]
    },
    {
      "cell_type": "code",
      "metadata": {
        "id": "zAWCOL3I58lS",
        "colab": {
          "base_uri": "https://localhost:8080/",
          "height": 296
        },
        "outputId": "f0964719-2fe6-41ab-b77d-32caa324af19"
      },
      "source": [
        "iterations = 1000\n",
        "t = 50\n",
        "M = 0\n",
        "R = 0\n",
        "alpha = 1.2\n",
        "beta = 1.2\n",
        "g =2/3\n",
        "prob_type = 0\n",
        "\n",
        "axis, f1 = FW(X,y,t,M,prob_type,iterations,f_opt,R)\n",
        "axis, f2 = AFW(X,y,t,M,prob_type,iterations,f_opt,R)\n",
        "axis, f3 = JFW(X,y,t,alpha,beta,g,M,prob_type,iterations,f_opt,R)\n",
        "plt.semilogy(axis,f1,'--') \n",
        "plt.semilogy(axis,f2,'-.') \n",
        "plt.semilogy(axis,f3) \n",
        "plt.xlim([10,iterations-20])\n",
        "plt.legend(['FW','AFW','Jacobi FW'])\n",
        "plt.xlabel('Iterations')\n",
        "plt.ylabel(r'$f(\\mathbf{x}_k) - f(\\mathbf{x}^*)$')"
      ],
      "execution_count": null,
      "outputs": [
        {
          "output_type": "execute_result",
          "data": {
            "text/plain": [
              "Text(0, 0.5, '$f(\\\\mathbf{x}_k) - f(\\\\mathbf{x}^*)$')"
            ]
          },
          "metadata": {},
          "execution_count": 9
        },
        {
          "output_type": "display_data",
          "data": {
            "image/png": "[encoded data removed]",
            "text/plain": [
              "<Figure size 432x288 with 1 Axes>"
            ]
          },
          "metadata": {
            "needs_background": "light"
          }
        }
      ]
    },
    {
      "cell_type": "markdown",
      "metadata": {
        "id": "HQS1rBrB-swl"
      },
      "source": [
        "**Robust regression**\n",
        "\n",
        "Next, we consider robust ridge regression using the Huber loss function with an $\\ell_2$-norm constraint as before, i.e.,\n",
        "\\begin{align*} \n",
        "   &\\underset{\\mathbf{x}}{\\text{minimize}}\\quad \\frac{1}{m}\\sum_{i=1}^{m}H_{\\delta}(y_i - \\langle\\mathbf{a}_i ,\\mathbf{x}\\rangle) \\\\ \n",
        "   &\\text{s. to} \\quad ||\\mathbf{x}||_2 \\leq t\n",
        "\\end{align*}\n",
        "\n",
        "where $\\mathbf{a}_i \\in \\mathbb{R}^d$ and $y_i\\in \\mathbb{R}$. The Huber loss function is given by\n",
        "$$\n",
        "  H_{\\delta}(c) =\n",
        "  \\begin{cases}\n",
        "         c^2, & \\text{if $|c|\\leq \\delta$} \\\\\n",
        "         2\\delta|c| - \\delta^2, & \\text{otherwise.} \n",
        "  \\end{cases}\n",
        "$$\n",
        "\n",
        "We apply the robust ridge regression on *Pima Indian diabetes* dataset and the optimal function value is computed using *scikit-learn*. We use $m=767$, $d= 8$, $t=35$, $\\delta=0.5$, $\\alpha = 1450$, $\\beta = 1450$, and $\\gamma=0.65$."
      ]
    },
    {
      "cell_type": "code",
      "metadata": {
        "colab": {
          "base_uri": "https://localhost:8080/"
        },
        "id": "EA4FrOhk-bGu",
        "outputId": "d18440e0-c5cb-4734-fe19-97b074a1e9ea"
      },
      "source": [
        "## Reading the data\n",
        "\n",
        "data_pima = pd.read_csv('https://raw.githubusercontent.com/jbrownlee/Datasets/master/pima-indians-diabetes.csv',',')\n",
        "X1_pima = np.asmatrix(data_pima)\n",
        "y_pima = np.array(X1_pima[:,8])\n",
        "y_pima = y_pima.reshape((-1))\n",
        "X_pima = np.array(X1_pima[:,:8])\n",
        "m ,n = X_pima.shape\n",
        "print(m,n)\n",
        "M_pima = .5 # Huber parameter"
      ],
      "execution_count": null,
      "outputs": [
        {
          "output_type": "stream",
          "name": "stdout",
          "text": [
            "767 8\n"
          ]
        }
      ]
    },
    {
      "cell_type": "code",
      "metadata": {
        "id": "EiAW1bkc_whe"
      },
      "source": [
        "# Define the Huber loss and its derivative\n",
        "def fun_Huber_pima(u, M):\n",
        "  u = -u\n",
        "  n = np.size(u)\n",
        "  X = np.zeros(n)\n",
        "  for j in range(n):\n",
        "    if (np.abs(u[j])>M):\n",
        "      X[j] = 2*M*np.abs(u[j])  - M**2\n",
        "    else:\n",
        "      X[j] =  u[j]**2\n",
        "  return np.sum(X)/(m*n)\n",
        "\n",
        "# Define the gradient Huber loss\n",
        "def grad_Huber_pima(u, M, A_pima):\n",
        "  u = -u\n",
        "  n = np.size(u)\n",
        "  X = np.zeros(n)\n",
        "  for j in range(n):\n",
        "    if (np.abs(u[j])>M):\n",
        "      X[j] = 2*M*np.sign(u[j]) \n",
        "    else:\n",
        "      X[j] =  u[j]*2\n",
        "  return np.dot(A_pima.T,X)/(m*n)"
      ],
      "execution_count": null,
      "outputs": []
    },
    {
      "cell_type": "code",
      "metadata": {
        "colab": {
          "base_uri": "https://localhost:8080/"
        },
        "id": "s9_DSF6BAHKm",
        "outputId": "d27a1ed7-f255-4b82-b3cd-bc5447896e28"
      },
      "source": [
        "## Optimal function value from scikit learn\n",
        "\n",
        "from sklearn.linear_model import HuberRegressor\n",
        "\n",
        "model = HuberRegressor(max_iter=10000).fit(X_pima,y_pima)\n",
        "x_opt = model.coef_\n",
        "f_opt_pima = fun_Huber_pima(x_opt,M_pima)\n",
        "print(f_opt_pima)"
      ],
      "execution_count": null,
      "outputs": [
        {
          "output_type": "stream",
          "name": "stdout",
          "text": [
            "4.739110833775196e-06\n"
          ]
        }
      ]
    },
    {
      "cell_type": "code",
      "metadata": {
        "colab": {
          "base_uri": "https://localhost:8080/",
          "height": 302
        },
        "id": "G3ZpYJJ8iQLB",
        "outputId": "df2e9982-c0bc-49c0-c7ee-733d1088f38e"
      },
      "source": [
        "iterations = 1000\n",
        "t = 35\n",
        "M = 0.5\n",
        "R = 0\n",
        "alpha = 1450\n",
        "beta = 1450\n",
        "g = 0.65\n",
        "prob_type = 1\n",
        "\n",
        "axis, f1 = FW(X_pima,y_pima,t,M,prob_type,iterations,f_opt_pima,R)\n",
        "axis, f2 = AFW(X_pima,y_pima,t,M,prob_type,iterations,f_opt_pima,R)\n",
        "axis, f3 = JFW(X_pima,y_pima,t,alpha,beta,g,M,prob_type,iterations,f_opt_pima,R)\n",
        "plt.semilogy(axis,f1,'--') \n",
        "plt.semilogy(axis,f2,'-.') \n",
        "plt.semilogy(axis,f3) \n",
        "plt.ylim([0.001,1])\n",
        "plt.xlim([10,iterations-20])\n",
        "plt.legend(['FW','AFW','Jacobi FW'])\n",
        "plt.xlabel('Iterations')\n",
        "plt.ylabel(r'$f(\\mathbf{x}_k) - f(\\mathbf{x}^*)$')"
      ],
      "execution_count": null,
      "outputs": [
        {
          "output_type": "execute_result",
          "data": {
            "text/plain": [
              "Text(0, 0.5, '$f(\\\\mathbf{x}_k) - f(\\\\mathbf{x}^*)$')"
            ]
          },
          "metadata": {},
          "execution_count": 13
        },
        {
          "output_type": "display_data",
          "data": {
            "image/png": "[encoded data removed]",
            "text/plain": [
              "<Figure size 432x288 with 1 Axes>"
            ]
          },
          "metadata": {
            "needs_background": "light"
          }
        }
      ]
    },
    {
      "cell_type": "markdown",
      "metadata": {
        "id": "TiRwwmHgCLMG"
      },
      "source": [
        "**Robust matrix completion**\n",
        "\n",
        "Finally, we consider the robust matrix completion problem\n",
        "to predict the unobserved missing entries from observations with outliers. We use the Huber loss as before along with a low-rank promoting nuclear norm constraint for the robust matrix completion task, i.e., we solve\n",
        "\\begin{align*} \n",
        "   & \\underset{\\mathbf{X}}{\\text{minimize}}\\,\\,  \\sum_{(i,j) \\in \\Omega} H_{\\delta}(A_{ij} - X_{ij}) \\\\ \n",
        "   &\\text{s. to } \\quad \\|\\mathbf{X}\\|_\\star\\leq R,\n",
        "\\end{align*}\n",
        "where $\\mathbf{A} \\in \\mathbb{R}^{m \\times n}$ is a partially observed matrix with the entries $\\mathbf{A}_{ij}$ available for $(i,j) \\in \\Omega$. The sampling mask $\\Omega$ is know. \n",
        "\n",
        "We apply robust matrix completion on the {\\tt{movielens100K}} dataset where $m = 1682$ movies are rated by $n = 943$ users with $6.30\\%$ percent ratings observed. We use 50\\% of the available rating for training and the remaining observations for testing. Further, we introduce outliers by setting $4\\%$ of the total ratings (i.e., $mn$) to its maximum value. We use $R = 5$, $\\alpha=4.5$, $\\beta=4.5$, $\\gamma = 2/3$ and $\\delta = 4$. The normalized error, which is defined as \n",
        "$$\n",
        "\\epsilon_k = \\frac{\\sum_{(i,j) \\in \\Omega_{\\rm test}} H_\\delta(A_{ij} - X_{ij})}\n",
        "{\\sum_{(i,j) \\in \\Omega_{\\rm test}} H_\\delta(A_{ij})}\n",
        "$$"
      ]
    },
    {
      "cell_type": "code",
      "metadata": {
        "colab": {
          "base_uri": "https://localhost:8080/"
        },
        "id": "MSW5q8ZQCjWm",
        "outputId": "89944951-6f4d-4558-f7a2-a1068f6e170b"
      },
      "source": [
        "## Reading the data\n",
        "\n",
        "m = 943\n",
        "n = 1682\n",
        "data = pd.read_table('http://files.grouplens.org/datasets/movielens/ml-100k/u.data')\n",
        "X0 = np.asmatrix(data)\n",
        "s1 = X0.size\n",
        "X2 = np.array(X0)\n",
        "m1 ,n1  = X2.shape\n",
        "\n",
        "X_mc = np.zeros((m,n),dtype='float')  ## Train set\n",
        "X1 = np.zeros((m,n),dtype='float') ## Total available set\n",
        "index = np.zeros((m,n),dtype='int')\n",
        "index1 = np.zeros((m,n),dtype='int')  ## Train index\n",
        "for i in range(m1):\n",
        "  a1 = X2[i,0]\n",
        "  a2 = X2[i,1]\n",
        "  index[a1-1,a2-1] = 1\n",
        "  X1[a1-1,a2-1] = X2[i,2]\n",
        "  if (np.random.randint(0,2,1)==1):\n",
        "    X_mc[a1-1,a2-1] = X2[i,2]\n",
        "    index1[a1-1,a2-1] = 1\n",
        "index2 = index - index1   ## Test index\n",
        "s2 = np.count_nonzero(X1)\n",
        "print(s1,s2)\n",
        "X3 = X1*index2\n",
        "count = np.sum(index)\n",
        "print('count', count)\n",
        "M = 4  # Huber parameter\n",
        "\n",
        "## outliers\n",
        "\n",
        "Rand = np.random.randint(0,25,(m,n))\n",
        "Rand = np.where(Rand>0,0,1)\n",
        "print('Percentage of outliers',np.count_nonzero(Rand)/(m*n))\n",
        "for i in range(m):\n",
        "  for j in range(n):\n",
        "    if (Rand[i,j] == 1):\n",
        "      X_mc[i,j] = 5"
      ],
      "execution_count": null,
      "outputs": [
        {
          "output_type": "stream",
          "name": "stdout",
          "text": [
            "399996 99999\n",
            "count 99999\n",
            "Percentage of outliers 0.03986064158837318\n"
          ]
        }
      ]
    },
    {
      "cell_type": "code",
      "metadata": {
        "id": "oa8RO4xLDQZ9",
        "colab": {
          "base_uri": "https://localhost:8080/"
        },
        "outputId": "61c6296f-6e54-4f66-f3b4-b3fc552bc71e"
      },
      "source": [
        "# Define the Huber loss\n",
        "def fun_Huber_mc(u1,X1, M):\n",
        "  u = (-X1 + u1)*index2\n",
        "  m,n = np.shape(u)\n",
        "  X2 = np.zeros((m,n))\n",
        "  X2 = np.where(np.abs(u) > M,2*M*np.abs(u)  - M**2, u**2 )\n",
        "  return np.sum(X2)/m*n\n",
        "\n",
        "# Define the gradient Huber loss\n",
        "def grad_Huber_mc(u1,X11, M):\n",
        "  u = (-X11 + u1)*index1\n",
        "  m,n = np.shape(u)\n",
        "  X2 = np.zeros((m,n))\n",
        "  X2 = np.where(np.abs(u)  > M,2*M*np.sign(u), u*2 )\n",
        "  return X2/(m*n)\n",
        "\n",
        "## Fuction value of X (H_{\\delta}(A))\n",
        "f_opt_mc = fun_Huber_mc(np.zeros((m,n)),X1,M)\n",
        "print(f_opt_mc)"
      ],
      "execution_count": null,
      "outputs": [
        {
          "output_type": "stream",
          "name": "stdout",
          "text": [
            "1195862.759278897\n"
          ]
        }
      ]
    },
    {
      "cell_type": "code",
      "metadata": {
        "id": "pQypMuUanco2",
        "colab": {
          "base_uri": "https://localhost:8080/",
          "height": 296
        },
        "outputId": "02eb6013-1188-4224-eafb-d638b864a4eb"
      },
      "source": [
        "iterations = 1000\n",
        "t = 0\n",
        "M = 4\n",
        "R = 5\n",
        "alpha = 4.5\n",
        "beta = 4.5\n",
        "g = 2/3\n",
        "prob_type = 2\n",
        "\n",
        "axis, f1 = FW(X_mc,X1,t,M,prob_type,iterations,f_opt_mc,R)\n",
        "axis, f2 = AFW(X_mc,X1,t,M,prob_type,iterations,f_opt_mc,R)\n",
        "axis, f3 = JFW(X_mc,X1,t,alpha,beta,g,M,prob_type,iterations,f_opt_mc,R)\n",
        "plt.semilogy(axis,f1,'--') \n",
        "plt.semilogy(axis,f2,'-.') \n",
        "plt.semilogy(axis,f3) \n",
        "plt.xlim([10,iterations-20])\n",
        "plt.legend(['FW','AFW','Jacobi FW'])\n",
        "plt.xlabel('Iterations')\n",
        "plt.ylabel(r'$\\epsilon_k$')"
      ],
      "execution_count": null,
      "outputs": [
        {
          "output_type": "execute_result",
          "data": {
            "text/plain": [
              "Text(0, 0.5, '$\\\\epsilon_k$')"
            ]
          },
          "metadata": {},
          "execution_count": 140
        },
        {
          "output_type": "display_data",
          "data": {
            "image/png": "[encoded data removed]",
            "text/plain": [
              "<Figure size 432x288 with 1 Axes>"
            ]
          },
          "metadata": {
            "needs_background": "light"
          }
        }
      ]
    },
    {
      "cell_type": "code",
      "metadata": {
        "id": "fQnkL8vgs4An"
      },
      "source": [
        "### Valdation of the bound\n",
        "\n",
        "\n",
        "g1 = np.zeros((3,1000))\n",
        "a1 = np.zeros((3,1000))\n",
        "alpha = [1.2,1450,4.5]\n",
        "beta = [1.2,1450,4.5]\n",
        "gamm = [2/3,0.65,2/3]\n",
        "for j in range(3):\n",
        "  for k in range(2,1000):\n",
        "    gam = gamm[j]\n",
        "    a,b,c = constants(k,alpha[j],beta[j])\n",
        "    a1[j,k] = 1/(k+1) - 1.5*((a*(1-gam) + b)*(beta[j]/alpha[j]))/(k+2)\n",
        "    g1[j,k] =1/(k+3)\n",
        "\n",
        "t1 = np.linspace(0,999,1000)\n",
        "\n",
        "plt.loglog(t1,a1[0,:])\n",
        "plt.loglog(t1,g1[0,:])\n",
        "plt.ylabel(r'$\\frac{1}{k+1} - \\omega_k\\left|\\frac{\\beta}{\\alpha}\\right|\\frac{3}{2(k+2)}$')\n",
        "plt.xlabel('Iterations')\n",
        "plt.legend([r'$\\alpha=\\beta= 1.2,\\gamma = \\frac{1}{2}$',r'$\\frac{1}{k+3}$'])\n",
        "plt.xlim([2,1000])\n",
        "\n",
        "plt.figure()\n",
        "plt.loglog(t1,a1[j,:])\n",
        "plt.loglog(t1,g1[j,:])\n",
        "plt.ylabel(r'$\\frac{1}{k+1} - \\omega_k\\left|\\frac{\\beta}{\\alpha}\\right|\\frac{3}{2(k+2)}$')\n",
        "plt.xlabel('Iterations')\n",
        "plt.legend([r'$\\alpha=\\beta= 1450,\\gamma = 0.65$',r'$\\frac{1}{k+3}$'])\n",
        "plt.xlim([2,1000])\n",
        "\n",
        "plt.figure()\n",
        "plt.loglog(t1,a1[j,:])\n",
        "plt.loglog(t1,g1[j,:])\n",
        "plt.ylabel(r'$\\frac{1}{k+1} - \\omega_k\\left|\\frac{\\beta}{\\alpha}\\right|\\frac{3}{2(k+2)}$')\n",
        "plt.xlabel('Iterations')\n",
        "plt.legend([r'$\\alpha=\\beta= 4.5,\\gamma = \\frac{1}{2}$',r'$\\frac{1}{k+3}$'])\n",
        "plt.xlim([2,1000])"
      ],
      "execution_count": null,
      "outputs": []
    }
  ]
}